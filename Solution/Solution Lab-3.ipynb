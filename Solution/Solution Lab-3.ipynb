{
 "cells": [
  {
   "cell_type": "code",
   "execution_count": 1,
   "id": "af6dbcf8",
   "metadata": {},
   "outputs": [],
   "source": [
    "import pandas as pd\n",
    "import csv"
   ]
  },
  {
   "cell_type": "code",
   "execution_count": 2,
   "id": "2a4eb6fd",
   "metadata": {},
   "outputs": [],
   "source": [
    "def sol1():\n",
    "    \n",
    "    print(\"\\nSolution 1 : \\n\\n\")\n",
    "\n",
    "    with open('ankit.csv','w',newline='') as book:\n",
    "        \n",
    "        pen = csv.writer(book)\n",
    "\n",
    "        header = ['empid','empname','department','experience','salary']\n",
    "\n",
    "        pen.writerow(header)\n",
    "\n",
    "        data = [['1','ankit','BCA','2 Years','00000'],\n",
    "                ['1','ankit','BCA','2 Years','00000'],\n",
    "                ['1','ankit','BCA','2 Years','00000'],\n",
    "                ['1','ankit','BCA','2 Years','00000'],\n",
    "                ['1','ankit','BCA','2 Years','00000']]\n",
    "\n",
    "        pen.writerows(data)\n",
    "\n",
    "        print(\"Header Written Successfully ! \")"
   ]
  },
  {
   "cell_type": "code",
   "execution_count": 3,
   "id": "42924889",
   "metadata": {},
   "outputs": [],
   "source": [
    "def sol2():\n",
    "    \n",
    "    print(\"\\nSolution 2 : \\n\\n\")\n",
    "\n",
    "    with open('ankit.csv','r') as book:\n",
    "\n",
    "        pen_read = csv.reader(book)\n",
    "\n",
    "        for line in pen_read:\n",
    "            print(line)"
   ]
  },
  {
   "cell_type": "code",
   "execution_count": 4,
   "id": "4e83586d",
   "metadata": {},
   "outputs": [],
   "source": [
    "def sol3():\n",
    "    \n",
    "    print(\"\\nSolution 3 : \\n\\n\")\n",
    "\n",
    "    with open('ankit.csv','a',newline='') as book:\n",
    "\n",
    "        pen = csv.writer(book)\n",
    "\n",
    "        data = [['1','ankit','BCA','2 Years','00000'],\n",
    "                ['1','ankit','BCA','2 Years','00000']]\n",
    "\n",
    "        pen.writerows(data)\n",
    "\n",
    "        print('Data Append Successfull ! ')"
   ]
  },
  {
   "cell_type": "code",
   "execution_count": 5,
   "id": "621cacb1",
   "metadata": {},
   "outputs": [],
   "source": [
    "def sol4():\n",
    "    \n",
    "    print(\"\\nSolution 4 : \\n\\n\")\n",
    "        \n",
    "    with open('ankit.csv','r') as book:\n",
    "\n",
    "        pen_read = csv.reader(book)\n",
    "\n",
    "        for line in pen_read:    \n",
    "            if 'BCA' in line:\n",
    "                print(line[-1])"
   ]
  },
  {
   "cell_type": "code",
   "execution_count": 6,
   "id": "d0a32472",
   "metadata": {},
   "outputs": [],
   "source": [
    "def sol5():\n",
    "    \n",
    "    print(\"\\nSolution 5 : \\n\\n\")\n",
    "\n",
    "    df = pd.read_csv('ankit.csv')\n",
    "\n",
    "    print(df) "
   ]
  },
  {
   "cell_type": "code",
   "execution_count": 7,
   "id": "18d40408",
   "metadata": {},
   "outputs": [
    {
     "name": "stdout",
     "output_type": "stream",
     "text": [
      "\n",
      "Solution 1 : \n",
      "\n",
      "\n",
      "Header Written Successfully ! \n",
      "\n",
      "Solution 2 : \n",
      "\n",
      "\n",
      "['empid', 'empname', 'department', 'experience', 'salary']\n",
      "['1', 'ankit', 'BCA', '2 Years', '00000']\n",
      "['1', 'ankit', 'BCA', '2 Years', '00000']\n",
      "['1', 'ankit', 'BCA', '2 Years', '00000']\n",
      "['1', 'ankit', 'BCA', '2 Years', '00000']\n",
      "['1', 'ankit', 'BCA', '2 Years', '00000']\n",
      "\n",
      "Solution 3 : \n",
      "\n",
      "\n",
      "Data Append Successfull ! \n",
      "\n",
      "Solution 4 : \n",
      "\n",
      "\n",
      "00000\n",
      "00000\n",
      "00000\n",
      "00000\n",
      "00000\n",
      "00000\n",
      "00000\n",
      "\n",
      "Solution 5 : \n",
      "\n",
      "\n",
      "   empid empname department experience  salary\n",
      "0      1   ankit        BCA    2 Years       0\n",
      "1      1   ankit        BCA    2 Years       0\n",
      "2      1   ankit        BCA    2 Years       0\n",
      "3      1   ankit        BCA    2 Years       0\n",
      "4      1   ankit        BCA    2 Years       0\n",
      "5      1   ankit        BCA    2 Years       0\n",
      "6      1   ankit        BCA    2 Years       0\n"
     ]
    }
   ],
   "source": [
    "sol1()\n",
    "sol2()\n",
    "sol3()\n",
    "sol4()\n",
    "sol5()"
   ]
  }
 ],
 "metadata": {
  "kernelspec": {
   "display_name": "Python 3 (ipykernel)",
   "language": "python",
   "name": "python3"
  },
  "language_info": {
   "codemirror_mode": {
    "name": "ipython",
    "version": 3
   },
   "file_extension": ".py",
   "mimetype": "text/x-python",
   "name": "python",
   "nbconvert_exporter": "python",
   "pygments_lexer": "ipython3",
   "version": "3.10.7"
  }
 },
 "nbformat": 4,
 "nbformat_minor": 5
}
